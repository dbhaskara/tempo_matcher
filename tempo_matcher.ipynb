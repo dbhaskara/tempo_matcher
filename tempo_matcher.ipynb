{
 "cells": [
  {
   "cell_type": "code",
   "execution_count": 113,
   "metadata": {
    "collapsed": true
   },
   "outputs": [],
   "source": [
    "import spotipy\n",
    "from spotipy.oauth2 import SpotifyClientCredentials\n",
    "import os\n",
    "import pandas as pd"
   ]
  },
  {
   "cell_type": "code",
   "execution_count": 114,
   "metadata": {
    "collapsed": false
   },
   "outputs": [],
   "source": [
    "# Identify the playlist to search (Brown boy starter pack, by Divya Bhaskara)\n",
    "playlist_user = '1262352654'\n",
    "playlist_uri = '7mmbIi1LvNg4fpAMR6AKSD'   #Spotify URI\n",
    "\n",
    "# Identify the track to match (Cookie Jar, by Doja Cat)\n",
    "match_track_uri = '5hH8AeTxOxJ0vw3O5YXwTb' #Spotify URI\n",
    "\n",
    "# Error margin for tempo match\n",
    "error = 10"
   ]
  },
  {
   "cell_type": "code",
   "execution_count": 115,
   "metadata": {
    "collapsed": false
   },
   "outputs": [],
   "source": [
    "# Set up Spotipy client\n",
    "client_id = os.environ['SPOTIPY_CLIENT_ID']\n",
    "client_secret = os.environ['SPOTIPY_CLIENT_SECRET']\n",
    "client_credentials_manager = SpotifyClientCredentials(client_id=client_id, client_secret=client_secret)\n",
    "sp = spotipy.Spotify(client_credentials_manager=client_credentials_manager)"
   ]
  },
  {
   "cell_type": "code",
   "execution_count": 116,
   "metadata": {
    "collapsed": false
   },
   "outputs": [],
   "source": [
    "# Helper functions\n",
    "\n",
    "'''\n",
    "Get a DataFrame containing relevant information for all the tracks in a playlist.\n",
    "Parameters:\n",
    "    playlist_user(str): User ID of the playlist owner\n",
    "    playlist_id(str): Spotify Playlist URI\n",
    "Returns:\n",
    "    DataFrame: Pandas DataFrame containing track name, artists, and tempo for each track in a playlist.\n",
    "'''\n",
    "def createPlaylistDataFrame(playlist_user, playlist_uri):\n",
    "    tracks = []\n",
    "    playlist = sp.user_playlist(playlist_user, playlist_uri)\n",
    "    for item in playlist['tracks']['items']:\n",
    "        track_info = {}\n",
    "        track_id = item['track']['id']\n",
    "        track_info['name'] = item['track']['name']\n",
    "        track_info['artists'] = [artist['name'] for artist in item['track']['artists']]\n",
    "        features = sp.audio_features([track_id])\n",
    "        track_info['tempo'] = features[0]['tempo']\n",
    "        tracks.append(track_info)\n",
    "    return pd.DataFrame(tracks)"
   ]
  },
  {
   "cell_type": "code",
   "execution_count": 117,
   "metadata": {
    "collapsed": false
   },
   "outputs": [],
   "source": [
    "# Create a playlist DataFrame for the given playlist\n",
    "data = createPlaylistDataFrame(playlist_user, playlist_uri)\n",
    "\n",
    "# Extract the target tempo from the track to match\n",
    "target_tempo = sp.audio_features(match_track_uri)[0]['tempo']"
   ]
  },
  {
   "cell_type": "code",
   "execution_count": 118,
   "metadata": {
    "collapsed": false
   },
   "outputs": [],
   "source": [
    "# Find all tracks in the playlist that have tempos within a margin of the target_tempo \n",
    "matches = df[(df['tempo'] >= target_tempo - error) & (df['tempo'] <= target_tempo + error)]"
   ]
  },
  {
   "cell_type": "code",
   "execution_count": 119,
   "metadata": {
    "collapsed": false
   },
   "outputs": [
    {
     "data": {
      "text/html": [
       "<div>\n",
       "<style>\n",
       "    .dataframe thead tr:only-child th {\n",
       "        text-align: right;\n",
       "    }\n",
       "\n",
       "    .dataframe thead th {\n",
       "        text-align: left;\n",
       "    }\n",
       "\n",
       "    .dataframe tbody tr th {\n",
       "        vertical-align: top;\n",
       "    }\n",
       "</style>\n",
       "<table border=\"1\" class=\"dataframe\">\n",
       "  <thead>\n",
       "    <tr style=\"text-align: right;\">\n",
       "      <th></th>\n",
       "      <th>artists</th>\n",
       "      <th>name</th>\n",
       "      <th>tempo</th>\n",
       "    </tr>\n",
       "  </thead>\n",
       "  <tbody>\n",
       "    <tr>\n",
       "      <th>12</th>\n",
       "      <td>[BlocBoy JB, Drake]</td>\n",
       "      <td>Look Alive (feat. Drake)</td>\n",
       "      <td>140.022</td>\n",
       "    </tr>\n",
       "    <tr>\n",
       "      <th>28</th>\n",
       "      <td>[Drake]</td>\n",
       "      <td>Free Smoke</td>\n",
       "      <td>141.979</td>\n",
       "    </tr>\n",
       "    <tr>\n",
       "      <th>15</th>\n",
       "      <td>[Future, Drake]</td>\n",
       "      <td>Life Is Good (feat. Drake)</td>\n",
       "      <td>142.053</td>\n",
       "    </tr>\n",
       "    <tr>\n",
       "      <th>13</th>\n",
       "      <td>[Migos, Drake]</td>\n",
       "      <td>Walk It Talk It</td>\n",
       "      <td>145.914</td>\n",
       "    </tr>\n",
       "    <tr>\n",
       "      <th>14</th>\n",
       "      <td>[French Montana, Drake]</td>\n",
       "      <td>No Stylist (feat. Drake)</td>\n",
       "      <td>147.123</td>\n",
       "    </tr>\n",
       "    <tr>\n",
       "      <th>36</th>\n",
       "      <td>[Young Money, Lloyd]</td>\n",
       "      <td>BedRock</td>\n",
       "      <td>148.005</td>\n",
       "    </tr>\n",
       "    <tr>\n",
       "      <th>11</th>\n",
       "      <td>[Drake]</td>\n",
       "      <td>I'm Upset</td>\n",
       "      <td>150.002</td>\n",
       "    </tr>\n",
       "    <tr>\n",
       "      <th>8</th>\n",
       "      <td>[Drake]</td>\n",
       "      <td>Nonstop</td>\n",
       "      <td>154.983</td>\n",
       "    </tr>\n",
       "  </tbody>\n",
       "</table>\n",
       "</div>"
      ],
      "text/plain": [
       "                    artists                        name    tempo\n",
       "12      [BlocBoy JB, Drake]    Look Alive (feat. Drake)  140.022\n",
       "28                  [Drake]                  Free Smoke  141.979\n",
       "15          [Future, Drake]  Life Is Good (feat. Drake)  142.053\n",
       "13           [Migos, Drake]             Walk It Talk It  145.914\n",
       "14  [French Montana, Drake]    No Stylist (feat. Drake)  147.123\n",
       "36     [Young Money, Lloyd]                     BedRock  148.005\n",
       "11                  [Drake]                   I'm Upset  150.002\n",
       "8                   [Drake]                     Nonstop  154.983"
      ]
     },
     "execution_count": 119,
     "metadata": {},
     "output_type": "execute_result"
    }
   ],
   "source": [
    "# Display all the matches!!!\n",
    "matches.sort_values(by=['tempo'])"
   ]
  }
 ],
 "metadata": {
  "kernelspec": {
   "display_name": "Python 2",
   "language": "python",
   "name": "python2"
  },
  "language_info": {
   "codemirror_mode": {
    "name": "ipython",
    "version": 2
   },
   "file_extension": ".py",
   "mimetype": "text/x-python",
   "name": "python",
   "nbconvert_exporter": "python",
   "pygments_lexer": "ipython2",
   "version": "2.7.13"
  }
 },
 "nbformat": 4,
 "nbformat_minor": 0
}
